{
 "cells": [
  {
   "cell_type": "markdown",
   "metadata": {},
   "source": [
    "Pour la doc :\n",
    "https://spark.apache.org/docs/2.2.0/api/python/pyspark.html"
   ]
  },
  {
   "cell_type": "markdown",
   "metadata": {},
   "source": [
    "#### Création d'un RDD contenant des nombres de 0 à 499. Notez bien le type d'objet manipulé (RDD -> Distribué)"
   ]
  },
  {
   "cell_type": "code",
   "execution_count": 3,
   "metadata": {
    "collapsed": true
   },
   "outputs": [
    {
     "data": {
      "text/html": [
       "<style scoped>\n",
       "  .ansiout {\n",
       "    display: block;\n",
       "    unicode-bidi: embed;\n",
       "    white-space: pre-wrap;\n",
       "    word-wrap: break-word;\n",
       "    word-break: break-all;\n",
       "    font-family: \"Source Code Pro\", \"Menlo\", monospace;;\n",
       "    font-size: 13px;\n",
       "    color: #555;\n",
       "    margin-left: 4px;\n",
       "    line-height: 19px;\n",
       "  }\n",
       "</style>\n",
       "<div class=\"ansiout\"></div>"
      ]
     },
     "metadata": {},
     "output_type": "display_data"
    }
   ],
   "source": [
    "data = list(range(0,500))\n",
    "rdd = sc.parallelize(data)\n"
   ]
  },
  {
   "cell_type": "markdown",
   "metadata": {},
   "source": [
    "#### Affichage du contenu et de la taille"
   ]
  },
  {
   "cell_type": "code",
   "execution_count": 5,
   "metadata": {
    "collapsed": true
   },
   "outputs": [
    {
     "data": {
      "text/html": [
       "<style scoped>\n",
       "  .ansiout {\n",
       "    display: block;\n",
       "    unicode-bidi: embed;\n",
       "    white-space: pre-wrap;\n",
       "    word-wrap: break-word;\n",
       "    word-break: break-all;\n",
       "    font-family: \"Source Code Pro\", \"Menlo\", monospace;;\n",
       "    font-size: 13px;\n",
       "    color: #555;\n",
       "    margin-left: 4px;\n",
       "    line-height: 19px;\n",
       "  }\n",
       "</style>\n",
       "<div class=\"ansiout\">[0, 1, 2, 3, 4, 5, 6, 7, 8, 9, 10, 11, 12, 13, 14, 15, 16, 17, 18, 19, 20, 21, 22, 23, 24, 25, 26, 27, 28, 29, 30, 31, 32, 33, 34, 35, 36, 37, 38, 39, 40, 41, 42, 43, 44, 45, 46, 47, 48, 49, 50, 51, 52, 53, 54, 55, 56, 57, 58, 59, 60, 61, 62, 63, 64, 65, 66, 67, 68, 69, 70, 71, 72, 73, 74, 75, 76, 77, 78, 79, 80, 81, 82, 83, 84, 85, 86, 87, 88, 89, 90, 91, 92, 93, 94, 95, 96, 97, 98, 99, 100, 101, 102, 103, 104, 105, 106, 107, 108, 109, 110, 111, 112, 113, 114, 115, 116, 117, 118, 119, 120, 121, 122, 123, 124, 125, 126, 127, 128, 129, 130, 131, 132, 133, 134, 135, 136, 137, 138, 139, 140, 141, 142, 143, 144, 145, 146, 147, 148, 149, 150, 151, 152, 153, 154, 155, 156, 157, 158, 159, 160, 161, 162, 163, 164, 165, 166, 167, 168, 169, 170, 171, 172, 173, 174, 175, 176, 177, 178, 179, 180, 181, 182, 183, 184, 185, 186, 187, 188, 189, 190, 191, 192, 193, 194, 195, 196, 197, 198, 199, 200, 201, 202, 203, 204, 205, 206, 207, 208, 209, 210, 211, 212, 213, 214, 215, 216, 217, 218, 219, 220, 221, 222, 223, 224, 225, 226, 227, 228, 229, 230, 231, 232, 233, 234, 235, 236, 237, 238, 239, 240, 241, 242, 243, 244, 245, 246, 247, 248, 249, 250, 251, 252, 253, 254, 255, 256, 257, 258, 259, 260, 261, 262, 263, 264, 265, 266, 267, 268, 269, 270, 271, 272, 273, 274, 275, 276, 277, 278, 279, 280, 281, 282, 283, 284, 285, 286, 287, 288, 289, 290, 291, 292, 293, 294, 295, 296, 297, 298, 299, 300, 301, 302, 303, 304, 305, 306, 307, 308, 309, 310, 311, 312, 313, 314, 315, 316, 317, 318, 319, 320, 321, 322, 323, 324, 325, 326, 327, 328, 329, 330, 331, 332, 333, 334, 335, 336, 337, 338, 339, 340, 341, 342, 343, 344, 345, 346, 347, 348, 349, 350, 351, 352, 353, 354, 355, 356, 357, 358, 359, 360, 361, 362, 363, 364, 365, 366, 367, 368, 369, 370, 371, 372, 373, 374, 375, 376, 377, 378, 379, 380, 381, 382, 383, 384, 385, 386, 387, 388, 389, 390, 391, 392, 393, 394, 395, 396, 397, 398, 399, 400, 401, 402, 403, 404, 405, 406, 407, 408, 409, 410, 411, 412, 413, 414, 415, 416, 417, 418, 419, 420, 421, 422, 423, 424, 425, 426, 427, 428, 429, 430, 431, 432, 433, 434, 435, 436, 437, 438, 439, 440, 441, 442, 443, 444, 445, 446, 447, 448, 449, 450, 451, 452, 453, 454, 455, 456, 457, 458, 459, 460, 461, 462, 463, 464, 465, 466, 467, 468, 469, 470, 471, 472, 473, 474, 475, 476, 477, 478, 479, 480, 481, 482, 483, 484, 485, 486, 487, 488, 489, 490, 491, 492, 493, 494, 495, 496, 497, 498, 499]\n",
       "</div>"
      ]
     },
     "metadata": {},
     "output_type": "display_data"
    }
   ],
   "source": [
    "print(rdd.collect())"
   ]
  },
  {
   "cell_type": "code",
   "execution_count": 6,
   "metadata": {},
   "outputs": [
    {
     "data": {
      "text/html": [
       "<style scoped>\n",
       "  .ansiout {\n",
       "    display: block;\n",
       "    unicode-bidi: embed;\n",
       "    white-space: pre-wrap;\n",
       "    word-wrap: break-word;\n",
       "    word-break: break-all;\n",
       "    font-family: \"Source Code Pro\", \"Menlo\", monospace;;\n",
       "    font-size: 13px;\n",
       "    color: #555;\n",
       "    margin-left: 4px;\n",
       "    line-height: 19px;\n",
       "  }\n",
       "</style>\n",
       "<div class=\"ansiout\"><span class=\"ansired\">Out[</span><span class=\"ansired\">15</span><span class=\"ansired\">]: </span>500</div>"
      ]
     },
     "metadata": {},
     "output_type": "display_data"
    }
   ],
   "source": [
    "rdd.count()\n"
   ]
  },
  {
   "cell_type": "markdown",
   "metadata": {},
   "source": [
    "#### Afficher le nombre de partition du RDD (le réduire à 2 puis le mettre à 4)"
   ]
  },
  {
   "cell_type": "code",
   "execution_count": 8,
   "metadata": {
    "collapsed": true
   },
   "outputs": [
    {
     "data": {
      "text/html": [
       "<style scoped>\n",
       "  .ansiout {\n",
       "    display: block;\n",
       "    unicode-bidi: embed;\n",
       "    white-space: pre-wrap;\n",
       "    word-wrap: break-word;\n",
       "    word-break: break-all;\n",
       "    font-family: \"Source Code Pro\", \"Menlo\", monospace;;\n",
       "    font-size: 13px;\n",
       "    color: #555;\n",
       "    margin-left: 4px;\n",
       "    line-height: 19px;\n",
       "  }\n",
       "</style>\n",
       "<div class=\"ansiout\">Number of partitions: 8\n",
       "</div>"
      ]
     },
     "metadata": {},
     "output_type": "display_data"
    }
   ],
   "source": [
    "print(\"Number of partitions: {}\".format(rdd.getNumPartitions()))\n"
   ]
  },
  {
   "cell_type": "code",
   "execution_count": 9,
   "metadata": {},
   "outputs": [
    {
     "data": {
      "text/html": [
       "<style scoped>\n",
       "  .ansiout {\n",
       "    display: block;\n",
       "    unicode-bidi: embed;\n",
       "    white-space: pre-wrap;\n",
       "    word-wrap: break-word;\n",
       "    word-break: break-all;\n",
       "    font-family: \"Source Code Pro\", \"Menlo\", monospace;;\n",
       "    font-size: 13px;\n",
       "    color: #555;\n",
       "    margin-left: 4px;\n",
       "    line-height: 19px;\n",
       "  }\n",
       "</style>\n",
       "<div class=\"ansiout\">Number of partitions: 2\n",
       "</div>"
      ]
     },
     "metadata": {},
     "output_type": "display_data"
    }
   ],
   "source": [
    "rdd2=rdd.partitionBy(2)\n",
    "        \n",
    "print(\"Number of partitions: {}\".format(rdd2.getNumPartitions()))"
   ]
  },
  {
   "cell_type": "code",
   "execution_count": 10,
   "metadata": {},
   "outputs": [
    {
     "data": {
      "text/html": [
       "<style scoped>\n",
       "  .ansiout {\n",
       "    display: block;\n",
       "    unicode-bidi: embed;\n",
       "    white-space: pre-wrap;\n",
       "    word-wrap: break-word;\n",
       "    word-break: break-all;\n",
       "    font-family: \"Source Code Pro\", \"Menlo\", monospace;;\n",
       "    font-size: 13px;\n",
       "    color: #555;\n",
       "    margin-left: 4px;\n",
       "    line-height: 19px;\n",
       "  }\n",
       "</style>\n",
       "<div class=\"ansiout\">Number of partitions: 4\n",
       "</div>"
      ]
     },
     "metadata": {},
     "output_type": "display_data"
    }
   ],
   "source": [
    "rdd2=rdd.partitionBy(4)\n",
    "        \n",
    "print(\"Number of partitions: {}\".format(rdd2.getNumPartitions()))"
   ]
  },
  {
   "cell_type": "markdown",
   "metadata": {},
   "source": [
    "#### Récupérer un échantillon de données (disons 100 données, prises au hasard)"
   ]
  },
  {
   "cell_type": "code",
   "execution_count": 12,
   "metadata": {},
   "outputs": [
    {
     "data": {
      "text/html": [
       "<style scoped>\n",
       "  .ansiout {\n",
       "    display: block;\n",
       "    unicode-bidi: embed;\n",
       "    white-space: pre-wrap;\n",
       "    word-wrap: break-word;\n",
       "    word-break: break-all;\n",
       "    font-family: \"Source Code Pro\", \"Menlo\", monospace;;\n",
       "    font-size: 13px;\n",
       "    color: #555;\n",
       "    margin-left: 4px;\n",
       "    line-height: 19px;\n",
       "  }\n",
       "</style>\n",
       "<div class=\"ansiout\">[149, 114, 239, 202, 118, 366, 344, 390, 450, 41, 223, 106, 376, 284, 352, 108, 64, 252, 415, 300, 164, 33, 199, 491, 384, 95, 50, 150, 107, 479, 275, 439, 208, 168, 134, 193, 279, 408, 26, 271, 155, 176, 17, 347, 446, 381, 429, 478, 247, 93, 167, 369, 48, 58, 65, 443, 309, 348, 214, 152, 324, 147, 469, 288, 331, 163, 336, 185, 15, 266, 460, 459, 406, 407, 338, 405, 243, 77, 109, 291, 323, 341, 373, 296, 120, 18, 258, 303, 142, 66, 442, 179, 316, 483, 83, 433, 228, 156, 141, 297]\n",
       "</div>"
      ]
     },
     "metadata": {},
     "output_type": "display_data"
    }
   ],
   "source": [
    "print(rdd.takeSample(False,100))"
   ]
  },
  {
   "cell_type": "markdown",
   "metadata": {},
   "source": [
    "#### Quelle est la différence entre Take et TakeOrdered ?"
   ]
  },
  {
   "cell_type": "code",
   "execution_count": 14,
   "metadata": {
    "collapsed": true
   },
   "outputs": [
    {
     "data": {
      "text/html": [
       "<style scoped>\n",
       "  .ansiout {\n",
       "    display: block;\n",
       "    unicode-bidi: embed;\n",
       "    white-space: pre-wrap;\n",
       "    word-wrap: break-word;\n",
       "    word-break: break-all;\n",
       "    font-family: \"Source Code Pro\", \"Menlo\", monospace;;\n",
       "    font-size: 13px;\n",
       "    color: #555;\n",
       "    margin-left: 4px;\n",
       "    line-height: 19px;\n",
       "  }\n",
       "</style>\n",
       "<div class=\"ansiout\"></div>"
      ]
     },
     "metadata": {},
     "output_type": "display_data"
    }
   ],
   "source": [
    "#The take action returns an array of the first n elements (not ordered) whereas takeOrdered returns an array with the first n elements after a sort"
   ]
  },
  {
   "cell_type": "code",
   "execution_count": 15,
   "metadata": {},
   "outputs": [
    {
     "data": {
      "text/html": [
       "<style scoped>\n",
       "  .ansiout {\n",
       "    display: block;\n",
       "    unicode-bidi: embed;\n",
       "    white-space: pre-wrap;\n",
       "    word-wrap: break-word;\n",
       "    word-break: break-all;\n",
       "    font-family: \"Source Code Pro\", \"Menlo\", monospace;;\n",
       "    font-size: 13px;\n",
       "    color: #555;\n",
       "    margin-left: 4px;\n",
       "    line-height: 19px;\n",
       "  }\n",
       "</style>\n",
       "<div class=\"ansiout\"><span class=\"ansired\">Out[</span><span class=\"ansired\">38</span><span class=\"ansired\">]: </span>[0, 1, 2, 3, 4, 5, 6, 7, 8, 9]</div>"
      ]
     },
     "metadata": {},
     "output_type": "display_data"
    }
   ],
   "source": [
    "rdd.take(10)"
   ]
  },
  {
   "cell_type": "code",
   "execution_count": 16,
   "metadata": {},
   "outputs": [
    {
     "data": {
      "text/html": [
       "<style scoped>\n",
       "  .ansiout {\n",
       "    display: block;\n",
       "    unicode-bidi: embed;\n",
       "    white-space: pre-wrap;\n",
       "    word-wrap: break-word;\n",
       "    word-break: break-all;\n",
       "    font-family: \"Source Code Pro\", \"Menlo\", monospace;;\n",
       "    font-size: 13px;\n",
       "    color: #555;\n",
       "    margin-left: 4px;\n",
       "    line-height: 19px;\n",
       "  }\n",
       "</style>\n",
       "<div class=\"ansiout\">[0, 1, 2]\n",
       "</div>"
      ]
     },
     "metadata": {},
     "output_type": "display_data"
    }
   ],
   "source": [
    "print(rdd.takeOrdered(3))"
   ]
  },
  {
   "cell_type": "markdown",
   "metadata": {
    "collapsed": true
   },
   "source": [
    "#### Différence entre Map et FlapMap ?"
   ]
  },
  {
   "cell_type": "code",
   "execution_count": 18,
   "metadata": {
    "collapsed": true
   },
   "outputs": [],
   "source": [
    "#map takes one element and produce one element; flatmap takes one element and produces zero, one or more elements.\n",
    "#map: It returns a new RDD by applying a function to each element of the RDD. Function in .map can return only one item.\n",
    "#flatMap: Similar to map, it returns a new RDD by applying a function to each element of the RDD, but the output is flattened."
   ]
  },
  {
   "cell_type": "code",
   "execution_count": 19,
   "metadata": {},
   "outputs": [
    {
     "data": {
      "text/html": [
       "<style scoped>\n",
       "  .ansiout {\n",
       "    display: block;\n",
       "    unicode-bidi: embed;\n",
       "    white-space: pre-wrap;\n",
       "    word-wrap: break-word;\n",
       "    word-break: break-all;\n",
       "    font-family: \"Source Code Pro\", \"Menlo\", monospace;;\n",
       "    font-size: 13px;\n",
       "    color: #555;\n",
       "    margin-left: 4px;\n",
       "    line-height: 19px;\n",
       "  }\n",
       "</style>\n",
       "<div class=\"ansiout\"><span class=\"ansired\">Out[</span><span class=\"ansired\">41</span><span class=\"ansired\">]: </span>[range(1, 3), range(1, 4), range(1, 5)]</div>"
      ]
     },
     "metadata": {},
     "output_type": "display_data"
    }
   ],
   "source": [
    "sc.parallelize([3,4,5]).map(lambda x: range(1,x)).collect()"
   ]
  },
  {
   "cell_type": "code",
   "execution_count": 20,
   "metadata": {},
   "outputs": [
    {
     "data": {
      "text/html": [
       "<style scoped>\n",
       "  .ansiout {\n",
       "    display: block;\n",
       "    unicode-bidi: embed;\n",
       "    white-space: pre-wrap;\n",
       "    word-wrap: break-word;\n",
       "    word-break: break-all;\n",
       "    font-family: \"Source Code Pro\", \"Menlo\", monospace;;\n",
       "    font-size: 13px;\n",
       "    color: #555;\n",
       "    margin-left: 4px;\n",
       "    line-height: 19px;\n",
       "  }\n",
       "</style>\n",
       "<div class=\"ansiout\"><span class=\"ansired\">Out[</span><span class=\"ansired\">42</span><span class=\"ansired\">]: </span>[1, 2, 1, 2, 3, 1, 2, 3, 4]</div>"
      ]
     },
     "metadata": {},
     "output_type": "display_data"
    }
   ],
   "source": [
    "sc.parallelize([3,4,5]).flatMap(lambda x: range(1,x)).collect()"
   ]
  },
  {
   "cell_type": "markdown",
   "metadata": {},
   "source": [
    "#### Enregistrer votre RDD dans HDFS (au format csv)"
   ]
  },
  {
   "cell_type": "code",
   "execution_count": 22,
   "metadata": {},
   "outputs": [
    {
     "data": {
      "text/html": [
       "<style scoped>\n",
       "  .ansiout {\n",
       "    display: block;\n",
       "    unicode-bidi: embed;\n",
       "    white-space: pre-wrap;\n",
       "    word-wrap: break-word;\n",
       "    word-break: break-all;\n",
       "    font-family: \"Source Code Pro\", \"Menlo\", monospace;;\n",
       "    font-size: 13px;\n",
       "    color: #555;\n",
       "    margin-left: 4px;\n",
       "    line-height: 19px;\n",
       "  }\n",
       "</style>\n",
       "<div class=\"ansiout\"></div>"
      ]
     },
     "metadata": {},
     "output_type": "display_data"
    }
   ],
   "source": [
    "rdd.saveAsTextFile('test.csv')"
   ]
  },
  {
   "cell_type": "markdown",
   "metadata": {},
   "source": [
    "#### Liser le fichier enregistré précédemment (avec spark.sparkContext.textFile ET avec spark.sparkContext.wholeTextFiles). Quelle est la différence entre ces deux primitives ?"
   ]
  },
  {
   "cell_type": "code",
   "execution_count": 24,
   "metadata": {},
   "outputs": [
    {
     "data": {
      "text/html": [
       "<style scoped>\n",
       "  .ansiout {\n",
       "    display: block;\n",
       "    unicode-bidi: embed;\n",
       "    white-space: pre-wrap;\n",
       "    word-wrap: break-word;\n",
       "    word-break: break-all;\n",
       "    font-family: \"Source Code Pro\", \"Menlo\", monospace;;\n",
       "    font-size: 13px;\n",
       "    color: #555;\n",
       "    margin-left: 4px;\n",
       "    line-height: 19px;\n",
       "  }\n",
       "</style>\n",
       "<div class=\"ansiout\">[&apos;0&apos;, &apos;1&apos;, &apos;2&apos;, &apos;3&apos;, &apos;4&apos;, &apos;5&apos;, &apos;6&apos;, &apos;7&apos;, &apos;8&apos;, &apos;9&apos;, &apos;10&apos;, &apos;11&apos;, &apos;12&apos;, &apos;13&apos;, &apos;14&apos;, &apos;15&apos;, &apos;16&apos;, &apos;17&apos;, &apos;18&apos;, &apos;19&apos;, &apos;20&apos;, &apos;21&apos;, &apos;22&apos;, &apos;23&apos;, &apos;24&apos;, &apos;25&apos;, &apos;26&apos;, &apos;27&apos;, &apos;28&apos;, &apos;29&apos;, &apos;30&apos;, &apos;31&apos;, &apos;32&apos;, &apos;33&apos;, &apos;34&apos;, &apos;35&apos;, &apos;36&apos;, &apos;37&apos;, &apos;38&apos;, &apos;39&apos;, &apos;40&apos;, &apos;41&apos;, &apos;42&apos;, &apos;43&apos;, &apos;44&apos;, &apos;45&apos;, &apos;46&apos;, &apos;47&apos;, &apos;48&apos;, &apos;49&apos;, &apos;50&apos;, &apos;51&apos;, &apos;52&apos;, &apos;53&apos;, &apos;54&apos;, &apos;55&apos;, &apos;56&apos;, &apos;57&apos;, &apos;58&apos;, &apos;59&apos;, &apos;60&apos;, &apos;61&apos;, &apos;62&apos;, &apos;63&apos;, &apos;64&apos;, &apos;65&apos;, &apos;66&apos;, &apos;67&apos;, &apos;68&apos;, &apos;69&apos;, &apos;70&apos;, &apos;71&apos;, &apos;72&apos;, &apos;73&apos;, &apos;74&apos;, &apos;75&apos;, &apos;76&apos;, &apos;77&apos;, &apos;78&apos;, &apos;79&apos;, &apos;80&apos;, &apos;81&apos;, &apos;82&apos;, &apos;83&apos;, &apos;84&apos;, &apos;85&apos;, &apos;86&apos;, &apos;87&apos;, &apos;88&apos;, &apos;89&apos;, &apos;90&apos;, &apos;91&apos;, &apos;92&apos;, &apos;93&apos;, &apos;94&apos;, &apos;95&apos;, &apos;96&apos;, &apos;97&apos;, &apos;98&apos;, &apos;99&apos;, &apos;100&apos;, &apos;101&apos;, &apos;102&apos;, &apos;103&apos;, &apos;104&apos;, &apos;105&apos;, &apos;106&apos;, &apos;107&apos;, &apos;108&apos;, &apos;109&apos;, &apos;110&apos;, &apos;111&apos;, &apos;112&apos;, &apos;113&apos;, &apos;114&apos;, &apos;115&apos;, &apos;116&apos;, &apos;117&apos;, &apos;118&apos;, &apos;119&apos;, &apos;120&apos;, &apos;121&apos;, &apos;122&apos;, &apos;123&apos;, &apos;124&apos;, &apos;125&apos;, &apos;126&apos;, &apos;127&apos;, &apos;128&apos;, &apos;129&apos;, &apos;130&apos;, &apos;131&apos;, &apos;132&apos;, &apos;133&apos;, &apos;134&apos;, &apos;135&apos;, &apos;136&apos;, &apos;137&apos;, &apos;138&apos;, &apos;139&apos;, &apos;140&apos;, &apos;141&apos;, &apos;142&apos;, &apos;143&apos;, &apos;144&apos;, &apos;145&apos;, &apos;146&apos;, &apos;147&apos;, &apos;148&apos;, &apos;149&apos;, &apos;150&apos;, &apos;151&apos;, &apos;152&apos;, &apos;153&apos;, &apos;154&apos;, &apos;155&apos;, &apos;156&apos;, &apos;157&apos;, &apos;158&apos;, &apos;159&apos;, &apos;160&apos;, &apos;161&apos;, &apos;162&apos;, &apos;163&apos;, &apos;164&apos;, &apos;165&apos;, &apos;166&apos;, &apos;167&apos;, &apos;168&apos;, &apos;169&apos;, &apos;170&apos;, &apos;171&apos;, &apos;172&apos;, &apos;173&apos;, &apos;174&apos;, &apos;175&apos;, &apos;176&apos;, &apos;177&apos;, &apos;178&apos;, &apos;179&apos;, &apos;180&apos;, &apos;181&apos;, &apos;182&apos;, &apos;183&apos;, &apos;184&apos;, &apos;185&apos;, &apos;186&apos;, &apos;187&apos;, &apos;188&apos;, &apos;189&apos;, &apos;190&apos;, &apos;191&apos;, &apos;192&apos;, &apos;193&apos;, &apos;194&apos;, &apos;195&apos;, &apos;196&apos;, &apos;197&apos;, &apos;198&apos;, &apos;199&apos;, &apos;200&apos;, &apos;201&apos;, &apos;202&apos;, &apos;203&apos;, &apos;204&apos;, &apos;205&apos;, &apos;206&apos;, &apos;207&apos;, &apos;208&apos;, &apos;209&apos;, &apos;210&apos;, &apos;211&apos;, &apos;212&apos;, &apos;213&apos;, &apos;214&apos;, &apos;215&apos;, &apos;216&apos;, &apos;217&apos;, &apos;218&apos;, &apos;219&apos;, &apos;220&apos;, &apos;221&apos;, &apos;222&apos;, &apos;223&apos;, &apos;224&apos;, &apos;225&apos;, &apos;226&apos;, &apos;227&apos;, &apos;228&apos;, &apos;229&apos;, &apos;230&apos;, &apos;231&apos;, &apos;232&apos;, &apos;233&apos;, &apos;234&apos;, &apos;235&apos;, &apos;236&apos;, &apos;237&apos;, &apos;238&apos;, &apos;239&apos;, &apos;240&apos;, &apos;241&apos;, &apos;242&apos;, &apos;243&apos;, &apos;244&apos;, &apos;245&apos;, &apos;246&apos;, &apos;247&apos;, &apos;248&apos;, &apos;249&apos;, &apos;250&apos;, &apos;251&apos;, &apos;252&apos;, &apos;253&apos;, &apos;254&apos;, &apos;255&apos;, &apos;256&apos;, &apos;257&apos;, &apos;258&apos;, &apos;259&apos;, &apos;260&apos;, &apos;261&apos;, &apos;262&apos;, &apos;263&apos;, &apos;264&apos;, &apos;265&apos;, &apos;266&apos;, &apos;267&apos;, &apos;268&apos;, &apos;269&apos;, &apos;270&apos;, &apos;271&apos;, &apos;272&apos;, &apos;273&apos;, &apos;274&apos;, &apos;275&apos;, &apos;276&apos;, &apos;277&apos;, &apos;278&apos;, &apos;279&apos;, &apos;280&apos;, &apos;281&apos;, &apos;282&apos;, &apos;283&apos;, &apos;284&apos;, &apos;285&apos;, &apos;286&apos;, &apos;287&apos;, &apos;288&apos;, &apos;289&apos;, &apos;290&apos;, &apos;291&apos;, &apos;292&apos;, &apos;293&apos;, &apos;294&apos;, &apos;295&apos;, &apos;296&apos;, &apos;297&apos;, &apos;298&apos;, &apos;299&apos;, &apos;300&apos;, &apos;301&apos;, &apos;302&apos;, &apos;303&apos;, &apos;304&apos;, &apos;305&apos;, &apos;306&apos;, &apos;307&apos;, &apos;308&apos;, &apos;309&apos;, &apos;310&apos;, &apos;311&apos;, &apos;312&apos;, &apos;313&apos;, &apos;314&apos;, &apos;315&apos;, &apos;316&apos;, &apos;317&apos;, &apos;318&apos;, &apos;319&apos;, &apos;320&apos;, &apos;321&apos;, &apos;322&apos;, &apos;323&apos;, &apos;324&apos;, &apos;325&apos;, &apos;326&apos;, &apos;327&apos;, &apos;328&apos;, &apos;329&apos;, &apos;330&apos;, &apos;331&apos;, &apos;332&apos;, &apos;333&apos;, &apos;334&apos;, &apos;335&apos;, &apos;336&apos;, &apos;337&apos;, &apos;338&apos;, &apos;339&apos;, &apos;340&apos;, &apos;341&apos;, &apos;342&apos;, &apos;343&apos;, &apos;344&apos;, &apos;345&apos;, &apos;346&apos;, &apos;347&apos;, &apos;348&apos;, &apos;349&apos;, &apos;350&apos;, &apos;351&apos;, &apos;352&apos;, &apos;353&apos;, &apos;354&apos;, &apos;355&apos;, &apos;356&apos;, &apos;357&apos;, &apos;358&apos;, &apos;359&apos;, &apos;360&apos;, &apos;361&apos;, &apos;362&apos;, &apos;363&apos;, &apos;364&apos;, &apos;365&apos;, &apos;366&apos;, &apos;367&apos;, &apos;368&apos;, &apos;369&apos;, &apos;370&apos;, &apos;371&apos;, &apos;372&apos;, &apos;373&apos;, &apos;374&apos;, &apos;375&apos;, &apos;376&apos;, &apos;377&apos;, &apos;378&apos;, &apos;379&apos;, &apos;380&apos;, &apos;381&apos;, &apos;382&apos;, &apos;383&apos;, &apos;384&apos;, &apos;385&apos;, &apos;386&apos;, &apos;387&apos;, &apos;388&apos;, &apos;389&apos;, &apos;390&apos;, &apos;391&apos;, &apos;392&apos;, &apos;393&apos;, &apos;394&apos;, &apos;395&apos;, &apos;396&apos;, &apos;397&apos;, &apos;398&apos;, &apos;399&apos;, &apos;400&apos;, &apos;401&apos;, &apos;402&apos;, &apos;403&apos;, &apos;404&apos;, &apos;405&apos;, &apos;406&apos;, &apos;407&apos;, &apos;408&apos;, &apos;409&apos;, &apos;410&apos;, &apos;411&apos;, &apos;412&apos;, &apos;413&apos;, &apos;414&apos;, &apos;415&apos;, &apos;416&apos;, &apos;417&apos;, &apos;418&apos;, &apos;419&apos;, &apos;420&apos;, &apos;421&apos;, &apos;422&apos;, &apos;423&apos;, &apos;424&apos;, &apos;425&apos;, &apos;426&apos;, &apos;427&apos;, &apos;428&apos;, &apos;429&apos;, &apos;430&apos;, &apos;431&apos;, &apos;432&apos;, &apos;433&apos;, &apos;434&apos;, &apos;435&apos;, &apos;436&apos;, &apos;437&apos;, &apos;438&apos;, &apos;439&apos;, &apos;440&apos;, &apos;441&apos;, &apos;442&apos;, &apos;443&apos;, &apos;444&apos;, &apos;445&apos;, &apos;446&apos;, &apos;447&apos;, &apos;448&apos;, &apos;449&apos;, &apos;450&apos;, &apos;451&apos;, &apos;452&apos;, &apos;453&apos;, &apos;454&apos;, &apos;455&apos;, &apos;456&apos;, &apos;457&apos;, &apos;458&apos;, &apos;459&apos;, &apos;460&apos;, &apos;461&apos;, &apos;462&apos;, &apos;463&apos;, &apos;464&apos;, &apos;465&apos;, &apos;466&apos;, &apos;467&apos;, &apos;468&apos;, &apos;469&apos;, &apos;470&apos;, &apos;471&apos;, &apos;472&apos;, &apos;473&apos;, &apos;474&apos;, &apos;475&apos;, &apos;476&apos;, &apos;477&apos;, &apos;478&apos;, &apos;479&apos;, &apos;480&apos;, &apos;481&apos;, &apos;482&apos;, &apos;483&apos;, &apos;484&apos;, &apos;485&apos;, &apos;486&apos;, &apos;487&apos;, &apos;488&apos;, &apos;489&apos;, &apos;490&apos;, &apos;491&apos;, &apos;492&apos;, &apos;493&apos;, &apos;494&apos;, &apos;495&apos;, &apos;496&apos;, &apos;497&apos;, &apos;498&apos;, &apos;499&apos;]\n",
       "</div>"
      ]
     },
     "metadata": {},
     "output_type": "display_data"
    }
   ],
   "source": [
    "#Read a text file from HDFS, a local file system (available on all nodes), or any Hadoop-supported file system URI, and return it as an RDD of Strings.\n",
    "#textFile will return an RDD with each line as an element while wholeTextFiles returns a PairRDD with the key being the file path. If there is no need to #separate the data depending on the file, simply use textFile.\n",
    "read_rdd = sc.textFile(\"test.csv\")\n",
    "print(read_rdd.collect())"
   ]
  },
  {
   "cell_type": "code",
   "execution_count": 25,
   "metadata": {},
   "outputs": [
    {
     "data": {
      "text/html": [
       "<style scoped>\n",
       "  .ansiout {\n",
       "    display: block;\n",
       "    unicode-bidi: embed;\n",
       "    white-space: pre-wrap;\n",
       "    word-wrap: break-word;\n",
       "    word-break: break-all;\n",
       "    font-family: \"Source Code Pro\", \"Menlo\", monospace;;\n",
       "    font-size: 13px;\n",
       "    color: #555;\n",
       "    margin-left: 4px;\n",
       "    line-height: 19px;\n",
       "  }\n",
       "</style>\n",
       "<div class=\"ansiout\">[(&apos;dbfs:/test.csv/part-00000&apos;, &apos;0\\n1\\n2\\n3\\n4\\n5\\n6\\n7\\n8\\n9\\n10\\n11\\n12\\n13\\n14\\n15\\n16\\n17\\n18\\n19\\n20\\n21\\n22\\n23\\n24\\n25\\n26\\n27\\n28\\n29\\n30\\n31\\n32\\n33\\n34\\n35\\n36\\n37\\n38\\n39\\n40\\n41\\n42\\n43\\n44\\n45\\n46\\n47\\n48\\n49\\n50\\n51\\n52\\n53\\n54\\n55\\n56\\n57\\n58\\n59\\n60\\n61\\n&apos;), (&apos;dbfs:/test.csv/part-00001&apos;, &apos;62\\n63\\n64\\n65\\n66\\n67\\n68\\n69\\n70\\n71\\n72\\n73\\n74\\n75\\n76\\n77\\n78\\n79\\n80\\n81\\n82\\n83\\n84\\n85\\n86\\n87\\n88\\n89\\n90\\n91\\n92\\n93\\n94\\n95\\n96\\n97\\n98\\n99\\n100\\n101\\n102\\n103\\n104\\n105\\n106\\n107\\n108\\n109\\n110\\n111\\n112\\n113\\n114\\n115\\n116\\n117\\n118\\n119\\n120\\n121\\n122\\n123\\n&apos;), (&apos;dbfs:/test.csv/part-00002&apos;, &apos;124\\n125\\n126\\n127\\n128\\n129\\n130\\n131\\n132\\n133\\n134\\n135\\n136\\n137\\n138\\n139\\n140\\n141\\n142\\n143\\n144\\n145\\n146\\n147\\n148\\n149\\n150\\n151\\n152\\n153\\n154\\n155\\n156\\n157\\n158\\n159\\n160\\n161\\n162\\n163\\n164\\n165\\n166\\n167\\n168\\n169\\n170\\n171\\n172\\n173\\n174\\n175\\n176\\n177\\n178\\n179\\n180\\n181\\n182\\n183\\n184\\n185\\n&apos;), (&apos;dbfs:/test.csv/part-00003&apos;, &apos;186\\n187\\n188\\n189\\n190\\n191\\n192\\n193\\n194\\n195\\n196\\n197\\n198\\n199\\n200\\n201\\n202\\n203\\n204\\n205\\n206\\n207\\n208\\n209\\n210\\n211\\n212\\n213\\n214\\n215\\n216\\n217\\n218\\n219\\n220\\n221\\n222\\n223\\n224\\n225\\n226\\n227\\n228\\n229\\n230\\n231\\n232\\n233\\n234\\n235\\n236\\n237\\n238\\n239\\n240\\n241\\n242\\n243\\n244\\n245\\n246\\n247\\n&apos;), (&apos;dbfs:/test.csv/part-00004&apos;, &apos;248\\n249\\n250\\n251\\n252\\n253\\n254\\n255\\n256\\n257\\n258\\n259\\n260\\n261\\n262\\n263\\n264\\n265\\n266\\n267\\n268\\n269\\n270\\n271\\n272\\n273\\n274\\n275\\n276\\n277\\n278\\n279\\n280\\n281\\n282\\n283\\n284\\n285\\n286\\n287\\n288\\n289\\n290\\n291\\n292\\n293\\n294\\n295\\n296\\n297\\n298\\n299\\n300\\n301\\n302\\n303\\n304\\n305\\n306\\n307\\n308\\n309\\n&apos;), (&apos;dbfs:/test.csv/part-00005&apos;, &apos;310\\n311\\n312\\n313\\n314\\n315\\n316\\n317\\n318\\n319\\n320\\n321\\n322\\n323\\n324\\n325\\n326\\n327\\n328\\n329\\n330\\n331\\n332\\n333\\n334\\n335\\n336\\n337\\n338\\n339\\n340\\n341\\n342\\n343\\n344\\n345\\n346\\n347\\n348\\n349\\n350\\n351\\n352\\n353\\n354\\n355\\n356\\n357\\n358\\n359\\n360\\n361\\n362\\n363\\n364\\n365\\n366\\n367\\n368\\n369\\n370\\n371\\n&apos;), (&apos;dbfs:/test.csv/part-00006&apos;, &apos;372\\n373\\n374\\n375\\n376\\n377\\n378\\n379\\n380\\n381\\n382\\n383\\n384\\n385\\n386\\n387\\n388\\n389\\n390\\n391\\n392\\n393\\n394\\n395\\n396\\n397\\n398\\n399\\n400\\n401\\n402\\n403\\n404\\n405\\n406\\n407\\n408\\n409\\n410\\n411\\n412\\n413\\n414\\n415\\n416\\n417\\n418\\n419\\n420\\n421\\n422\\n423\\n424\\n425\\n426\\n427\\n428\\n429\\n430\\n431\\n432\\n433\\n&apos;), (&apos;dbfs:/test.csv/part-00007&apos;, &apos;434\\n435\\n436\\n437\\n438\\n439\\n440\\n441\\n442\\n443\\n444\\n445\\n446\\n447\\n448\\n449\\n450\\n451\\n452\\n453\\n454\\n455\\n456\\n457\\n458\\n459\\n460\\n461\\n462\\n463\\n464\\n465\\n466\\n467\\n468\\n469\\n470\\n471\\n472\\n473\\n474\\n475\\n476\\n477\\n478\\n479\\n480\\n481\\n482\\n483\\n484\\n485\\n486\\n487\\n488\\n489\\n490\\n491\\n492\\n493\\n494\\n495\\n496\\n497\\n498\\n499\\n&apos;)]\n",
       "</div>"
      ]
     },
     "metadata": {},
     "output_type": "display_data"
    }
   ],
   "source": [
    "\n",
    "read_rdd = sc.wholeTextFiles(\"test.csv\")\n",
    "print(read_rdd.collect())\n"
   ]
  },
  {
   "cell_type": "code",
   "execution_count": 26,
   "metadata": {},
   "outputs": [],
   "source": []
  }
 ],
 "metadata": {
  "kernelspec": {
   "display_name": "Python 3",
   "language": "python",
   "name": "python3"
  },
  "language_info": {
   "codemirror_mode": {
    "name": "ipython",
    "version": 3
   },
   "file_extension": ".py",
   "mimetype": "text/x-python",
   "name": "python",
   "nbconvert_exporter": "python",
   "pygments_lexer": "ipython3",
   "version": "3.7.3"
  },
  "name": "Pyspark",
  "notebookId": 1881675576934057
 },
 "nbformat": 4,
 "nbformat_minor": 1
}
